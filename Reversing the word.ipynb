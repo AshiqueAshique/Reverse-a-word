{
 "cells": [
  {
   "cell_type": "markdown",
   "id": "ca23c314",
   "metadata": {},
   "source": [
    "# Reversing the word"
   ]
  },
  {
   "cell_type": "code",
   "execution_count": 2,
   "id": "d62698ff",
   "metadata": {},
   "outputs": [
    {
     "name": "stdout",
     "output_type": "stream",
     "text": [
      "Enter a word: Edyoda\n"
     ]
    }
   ],
   "source": [
    "s = input(\"Enter a word: \")"
   ]
  },
  {
   "cell_type": "code",
   "execution_count": 5,
   "id": "e389aa26",
   "metadata": {},
   "outputs": [
    {
     "name": "stdout",
     "output_type": "stream",
     "text": [
      "adoydE"
     ]
    }
   ],
   "source": [
    "for i in range((len(s)-1), -1, -1):\n",
    "    print(s[i], end=\"\")"
   ]
  }
 ],
 "metadata": {
  "kernelspec": {
   "display_name": "Python 3",
   "language": "python",
   "name": "python3"
  },
  "language_info": {
   "codemirror_mode": {
    "name": "ipython",
    "version": 3
   },
   "file_extension": ".py",
   "mimetype": "text/x-python",
   "name": "python",
   "nbconvert_exporter": "python",
   "pygments_lexer": "ipython3",
   "version": "3.8.8"
  }
 },
 "nbformat": 4,
 "nbformat_minor": 5
}
